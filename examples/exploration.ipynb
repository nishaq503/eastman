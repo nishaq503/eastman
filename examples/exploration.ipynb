{
 "cells": [
  {
   "cell_type": "code",
   "execution_count": 1,
   "outputs": [],
   "source": [
    "import pathlib\n",
    "import os\n",
    "import time\n",
    "\n",
    "\n",
    "DATA_ROOT = pathlib.Path(os.curdir).resolve().parent.joinpath(\"data\")\n",
    "ARROW_PATH = DATA_ROOT.joinpath(\"input\", \"combined.arrow\")\n",
    "OUT_DIR = DATA_ROOT.joinpath(\"output\")\n",
    "assert ARROW_PATH.exists(), OUT_DIR.exists()"
   ],
   "metadata": {
    "collapsed": false,
    "pycharm": {
     "name": "#%%\n"
    }
   }
  },
  {
   "cell_type": "code",
   "execution_count": 2,
   "outputs": [],
   "source": [
    "import polars\n",
    "import vaex"
   ],
   "metadata": {
    "collapsed": false,
    "pycharm": {
     "name": "#%%\n"
    }
   }
  },
  {
   "cell_type": "code",
   "execution_count": 19,
   "outputs": [
    {
     "data": {
      "text/plain": "{'file': Utf8,\n 'AREA_PIXELS_COUNT': Float64,\n 'AREA_UM2': Float64,\n 'BBOX_HEIGHT': Float64,\n 'BBOX_WIDTH': Float64,\n 'BBOX_XMIN': Float64,\n 'BBOX_YMIN': Float64,\n 'CENTROID_X': Float64,\n 'CENTROID_Y': Float64,\n 'ENERGY': Float64,\n 'ENTROPY': Float64,\n 'HYPERFLATNESS': Float64,\n 'HYPERSLEWNESS': Float64,\n 'INTEGRATED_INTENSITY': Float64,\n 'INTERQUARTILE_RANGE': Float64,\n 'KURTOSIS': Float64,\n 'MASS_DISPLACEMENT': Float64,\n 'MAX': Float64,\n 'MEAN': Float64,\n 'MEAN_ABSOLUTE_DEVIATION': Float64,\n 'MEDIAN': Float64,\n 'MIN': Float64,\n 'MODE': Float64,\n 'P01': Float64,\n 'P10': Float64,\n 'P25': Float64,\n 'P75': Float64,\n 'P90': Float64,\n 'P99': Float64,\n 'RANGE': Float64,\n 'ROBUST_MEAN_ABSOLUTE_DEVIATION': Float64,\n 'ROOT_MEAN_SQUARED': Float64,\n 'SKEWNESS': Float64,\n 'STANDARD_DEVIATION': Float64,\n 'STANDARD_ERROR': Float64,\n 'UNIFORMITY': Float64,\n 'intensity_image': Utf8,\n 'label': Int64,\n 'mask_image': Utf8,\n 'virus_negative': Float64,\n 'virus_neutral': Float64,\n 'otsu': Float64,\n 'fpr': Float64,\n 'nsigma': Float64}"
     },
     "execution_count": 19,
     "metadata": {},
     "output_type": "execute_result"
    }
   ],
   "source": [
    "raw_df = polars.scan_ipc(ARROW_PATH)\n",
    "raw_df.schema"
   ],
   "metadata": {
    "collapsed": false,
    "pycharm": {
     "name": "#%%\n"
    }
   }
  },
  {
   "cell_type": "code",
   "execution_count": 15,
   "outputs": [
    {
     "data": {
      "text/plain": "shape: (5, 44)\n┌──────────────┬──────────────┬───────────┬─────────────┬─────┬──────────────┬──────┬─────┬────────┐\n│ file         ┆ AREA_PIXELS_ ┆ AREA_UM2  ┆ BBOX_HEIGHT ┆ ... ┆ virus_neutra ┆ otsu ┆ fpr ┆ nsigma │\n│ ---          ┆ COUNT        ┆ ---       ┆ ---         ┆     ┆ l            ┆ ---  ┆ --- ┆ ---    │\n│ str          ┆ ---          ┆ f64       ┆ f64         ┆     ┆ ---          ┆ f64  ┆ f64 ┆ f64    │\n│              ┆ f64          ┆           ┆             ┆     ┆ f64          ┆      ┆     ┆        │\n╞══════════════╪══════════════╪═══════════╪═════════════╪═════╪══════════════╪══════╪═════╪════════╡\n│ p001_x01_y01 ┆ 54.0         ┆ 37.75122  ┆ 8.0         ┆ ... ┆ 0.0          ┆ 0.0  ┆ 0.0 ┆ 0.0    │\n│ _wx1_wy1_c2. ┆              ┆           ┆             ┆     ┆              ┆      ┆     ┆        │\n│ csv          ┆              ┆           ┆             ┆     ┆              ┆      ┆     ┆        │\n│ p001_x01_y01 ┆ 22.0         ┆ 15.380127 ┆ 5.0         ┆ ... ┆ 0.0          ┆ 0.0  ┆ 0.0 ┆ 0.0    │\n│ _wx1_wy1_c2. ┆              ┆           ┆             ┆     ┆              ┆      ┆     ┆        │\n│ csv          ┆              ┆           ┆             ┆     ┆              ┆      ┆     ┆        │\n│ p001_x01_y01 ┆ 45.0         ┆ 31.45935  ┆ 8.0         ┆ ... ┆ 0.0          ┆ 0.0  ┆ 0.0 ┆ 0.0    │\n│ _wx1_wy1_c2. ┆              ┆           ┆             ┆     ┆              ┆      ┆     ┆        │\n│ csv          ┆              ┆           ┆             ┆     ┆              ┆      ┆     ┆        │\n│ p001_x01_y01 ┆ 9.0          ┆ 6.29187   ┆ 4.0         ┆ ... ┆ 0.0          ┆ 0.0  ┆ 0.0 ┆ 0.0    │\n│ _wx1_wy1_c2. ┆              ┆           ┆             ┆     ┆              ┆      ┆     ┆        │\n│ csv          ┆              ┆           ┆             ┆     ┆              ┆      ┆     ┆        │\n│ p001_x01_y01 ┆ 22.0         ┆ 15.380127 ┆ 5.0         ┆ ... ┆ 0.0          ┆ 0.0  ┆ 0.0 ┆ 0.0    │\n│ _wx1_wy1_c2. ┆              ┆           ┆             ┆     ┆              ┆      ┆     ┆        │\n│ csv          ┆              ┆           ┆             ┆     ┆              ┆      ┆     ┆        │\n└──────────────┴──────────────┴───────────┴─────────────┴─────┴──────────────┴──────┴─────┴────────┘",
      "text/html": "<div><style>\n.dataframe > thead > tr > th,\n.dataframe > tbody > tr > td {\n  text-align: right;\n}\n</style>\n<small>shape: (5, 44)</small><table border=\"1\" class=\"dataframe\"><thead><tr><th>file</th><th>AREA_PIXELS_COUNT</th><th>AREA_UM2</th><th>BBOX_HEIGHT</th><th>BBOX_WIDTH</th><th>BBOX_XMIN</th><th>BBOX_YMIN</th><th>CENTROID_X</th><th>CENTROID_Y</th><th>ENERGY</th><th>ENTROPY</th><th>HYPERFLATNESS</th><th>HYPERSLEWNESS</th><th>INTEGRATED_INTENSITY</th><th>INTERQUARTILE_RANGE</th><th>KURTOSIS</th><th>MASS_DISPLACEMENT</th><th>MAX</th><th>MEAN</th><th>MEAN_ABSOLUTE_DEVIATION</th><th>MEDIAN</th><th>MIN</th><th>MODE</th><th>P01</th><th>P10</th><th>P25</th><th>P75</th><th>P90</th><th>P99</th><th>RANGE</th><th>ROBUST_MEAN_ABSOLUTE_DEVIATION</th><th>ROOT_MEAN_SQUARED</th><th>SKEWNESS</th><th>STANDARD_DEVIATION</th><th>STANDARD_ERROR</th><th>UNIFORMITY</th><th>intensity_image</th><th>label</th><th>mask_image</th><th>virus_negative</th><th>virus_neutral</th><th>otsu</th><th>fpr</th><th>nsigma</th></tr><tr><td>str</td><td>f64</td><td>f64</td><td>f64</td><td>f64</td><td>f64</td><td>f64</td><td>f64</td><td>f64</td><td>f64</td><td>f64</td><td>f64</td><td>f64</td><td>f64</td><td>f64</td><td>f64</td><td>f64</td><td>f64</td><td>f64</td><td>f64</td><td>f64</td><td>f64</td><td>f64</td><td>f64</td><td>f64</td><td>f64</td><td>f64</td><td>f64</td><td>f64</td><td>f64</td><td>f64</td><td>f64</td><td>f64</td><td>f64</td><td>f64</td><td>f64</td><td>str</td><td>i64</td><td>str</td><td>f64</td><td>f64</td><td>f64</td><td>f64</td><td>f64</td></tr></thead><tbody><tr><td>&quot;p001_x01_y01_w...</td><td>54.0</td><td>37.75122</td><td>8.0</td><td>8.0</td><td>673.0</td><td>12.0</td><td>676.148148</td><td>15.5</td><td>3.969186e6</td><td>2.487264</td><td>13.603715</td><td>-4.128704</td><td>14618.0</td><td>22.349333</td><td>2.841984</td><td>1.362863</td><td>296.0</td><td>270.703704</td><td>12.481481</td><td>270.5</td><td>228.0</td><td>284.0</td><td>240.9472</td><td>253.092</td><td>261.546667</td><td>283.896</td><td>288.588</td><td>295.9728</td><td>68.0</td><td>11.657143</td><td>271.115187</td><td>-0.513902</td><td>15.07169</td><td>2.050997</td><td>122.0</td><td>&quot;p001_x01_y01_w...</td><td>1</td><td>&quot;p001_x01_y01_w...</td><td>0.0</td><td>0.0</td><td>0.0</td><td>0.0</td><td>0.0</td></tr><tr><td>&quot;p001_x01_y01_w...</td><td>22.0</td><td>15.380127</td><td>5.0</td><td>5.0</td><td>872.0</td><td>18.0</td><td>873.909091</td><td>19.909091</td><td>2.298055e6</td><td>2.283327</td><td>4.254393</td><td>0.607762</td><td>7079.0</td><td>45.58</td><td>1.917369</td><td>1.389226</td><td>381.0</td><td>321.772727</td><td>26.702479</td><td>327.0</td><td>275.0</td><td>275.0</td><td>275.3816</td><td>283.162</td><td>300.44</td><td>346.02</td><td>366.478</td><td>0.0</td><td>106.0</td><td>25.44</td><td>323.198152</td><td>0.057446</td><td>31.034438</td><td>6.616564</td><td>26.0</td><td>&quot;p001_x01_y01_w...</td><td>2</td><td>&quot;p001_x01_y01_w...</td><td>0.0</td><td>0.0</td><td>0.0</td><td>0.0</td><td>0.0</td></tr><tr><td>&quot;p001_x01_y01_w...</td><td>45.0</td><td>31.45935</td><td>8.0</td><td>7.0</td><td>603.0</td><td>20.0</td><td>606.333333</td><td>23.6</td><td>4.080029e6</td><td>2.466373</td><td>7.231118</td><td>-1.797631</td><td>13521.0</td><td>29.52625</td><td>2.383321</td><td>1.47565</td><td>335.0</td><td>300.466667</td><td>16.34963</td><td>303.0</td><td>256.0</td><td>290.0</td><td>256.7505</td><td>272.59</td><td>287.4025</td><td>316.92875</td><td>325.52</td><td>0.0</td><td>79.0</td><td>13.166667</td><td>301.110131</td><td>-0.358209</td><td>19.897008</td><td>2.966071</td><td>71.0</td><td>&quot;p001_x01_y01_w...</td><td>3</td><td>&quot;p001_x01_y01_w...</td><td>0.0</td><td>0.0</td><td>0.0</td><td>0.0</td><td>0.0</td></tr><tr><td>&quot;p001_x01_y01_w...</td><td>9.0</td><td>6.29187</td><td>4.0</td><td>3.0</td><td>1077.0</td><td>21.0</td><td>1078.222222</td><td>22.333333</td><td>828874.0</td><td>1.891061</td><td>2.197393</td><td>0.098674</td><td>2712.0</td><td>78.225</td><td>1.664156</td><td>1.498755</td><td>352.0</td><td>301.333333</td><td>31.703704</td><td>291.0</td><td>247.0</td><td>291.0</td><td>247.6195</td><td>263.17</td><td>271.9375</td><td>350.1625</td><td>351.58</td><td>0.0</td><td>105.0</td><td>26.25</td><td>303.475058</td><td>0.095859</td><td>38.173944</td><td>12.724648</td><td>11.0</td><td>&quot;p001_x01_y01_w...</td><td>4</td><td>&quot;p001_x01_y01_w...</td><td>0.0</td><td>0.0</td><td>0.0</td><td>0.0</td><td>0.0</td></tr><tr><td>&quot;p001_x01_y01_w...</td><td>22.0</td><td>15.380127</td><td>5.0</td><td>5.0</td><td>950.0</td><td>22.0</td><td>952.272727</td><td>24.045455</td><td>1.59572e6</td><td>2.242573</td><td>4.965928</td><td>0.585515</td><td>5920.0</td><td>17.16</td><td>2.190879</td><td>1.44651</td><td>289.0</td><td>269.090909</td><td>9.008264</td><td>268.0</td><td>250.0</td><td>266.0</td><td>250.2808</td><td>254.953</td><td>263.65</td><td>280.81</td><td>288.6685</td><td>0.0</td><td>39.0</td><td>9.36</td><td>269.319007</td><td>0.144787</td><td>11.342751</td><td>2.418283</td><td>28.0</td><td>&quot;p001_x01_y01_w...</td><td>5</td><td>&quot;p001_x01_y01_w...</td><td>0.0</td><td>0.0</td><td>0.0</td><td>0.0</td><td>0.0</td></tr></tbody></table></div>"
     },
     "execution_count": 15,
     "metadata": {},
     "output_type": "execute_result"
    }
   ],
   "source": [
    "raw_df.head().collect()"
   ],
   "metadata": {
    "collapsed": false,
    "pycharm": {
     "name": "#%%\n"
    }
   }
  },
  {
   "cell_type": "code",
   "execution_count": 23,
   "outputs": [
    {
     "data": {
      "text/plain": "('p001_x01_y01_wx1_wy1_c2.csv',\n 'p001_x01_y01_wx1_wy1_c2.ome.tif',\n 'p001_x01_y01_wx1_wy1_c1.ome.tif')"
     },
     "execution_count": 23,
     "metadata": {},
     "output_type": "execute_result"
    }
   ],
   "source": [
    "row_0 = raw_df.select(\n",
    "    polars.col(\"file\"),\n",
    "    polars.col(\"intensity_image\"),\n",
    "    polars.col(\"mask_image\"),\n",
    ").collect().row(0)\n",
    "row_0"
   ],
   "metadata": {
    "collapsed": false,
    "pycharm": {
     "name": "#%%\n"
    }
   }
  },
  {
   "cell_type": "markdown",
   "source": [
    "# Columns\n",
    "\n",
    "1. \"file\": pattern: \"p{ppp}_x{xx}_y{yy}_wx{i}_wy{j}_c{c}.csv\"\n",
    "    - p: plate number\n",
    "    - x: x co-ordinate of well in plate. Range is [1, 24]\n",
    "    - y: y co-ordinate of well in plate. Range is [1, 16]\n",
    "    - i: x co-ordinate of FOV in well. Range is [1, 3]\n",
    "    - j: y co-ordinate of FOV in well. Range is [1, 3]\n",
    "    - c: channel. 1 is nuclear/DAPI mask channel, 2 is reporter/covid-expression channel\n",
    "3. \"AREA_PIXELS_COUNT\": number of pixels in the mask object\n",
    "4. \"AREA_UM2\": given the physical area of each pixel, this is the area in units `micro-meter-squared`\n",
    "5. \"BBOX_HEIGHT\": from the bounding box of the mask\n",
    "6. \"BBOX_WIDTH\": from the bounding box of the mask\n",
    "7. \"BBOX_XMIN\": from the bounding box of the mask\n",
    "8. \"BBOX_YMIN\": from the bounding box of the mask\n",
    "9. \"CENTROID_X\": from the bounding box of the mask?\n",
    "10. \"CENTROID_Y\": from the bounding box of the mask?\n",
    "11. \"ENERGY\":\n",
    "12. \"ENTROPY\":\n",
    "13. \"HYPERFLATNESS\":\n",
    "14. \"HYPERSLEWNESS\":\n",
    "15. \"INTEGRATED_INTENSITY\":\n",
    "16. \"INTERQUARTILE_RANGE\":\n",
    "17. \"KURTOSIS\":\n",
    "18. \"MASS_DISPLACEMENT\":\n",
    "19. \"MAX\":\n",
    "20. \"MEAN\":\n",
    "21. \"MEAN_ABSOLUTE_DEVIATION\":\n",
    "22. \"MEDIAN\":\n",
    "23. \"MIN\":\n",
    "24. \"MODE\":\n",
    "25. \"P01\":\n",
    "26. \"P10\":\n",
    "27. \"P25\":\n",
    "28. \"P75\":\n",
    "29. \"P90\":\n",
    "30. \"P99\":\n",
    "31. \"RANGE\":\n",
    "32. \"ROBUST_MEAN_ABSOLUTE_DEVIATION\":\n",
    "33. \"ROOT_MEAN_SQUARED\":\n",
    "34. \"SKEWNESS\":\n",
    "35. \"STANDARD_DEVIATION\":\n",
    "36. \"STANDARD_ERROR\":\n",
    "37. \"UNIFORMITY\":\n",
    "38. \"intensity_image\": name of reporter intensity image: \"p{ppp}_x{xx}_y{yy}_wx{i}_wy{j}_c2.ome.tif\"\n",
    "39. \"label\": nuclear label. Ranges from 1 to n where n is the number of nuclei in the FOV\n",
    "40. \"mask_image\": name of nuclear intensity image, e.g. \"p{ppp}_x{xx}_y{yy}_wx{i}_wy{j}_c1.ome.tif\"\n",
    "41. \"virus_negative\":\n",
    "42. \"virus_neutral\":\n",
    "43. \"otsu\":\n",
    "44. \"fpr\":\n",
    "45. 'nsigma': Float64,"
   ],
   "metadata": {
    "collapsed": false,
    "pycharm": {
     "name": "#%% md\n"
    }
   }
  },
  {
   "cell_type": "code",
   "execution_count": 5,
   "outputs": [
    {
     "name": "stdout",
     "output_type": "stream",
     "text": [
      "time_taken = 49.663235 seconds\n"
     ]
    }
   ],
   "source": [
    "selectors = [\n",
    "    polars.col(\"AREA_PIXELS_COUNT\").quantile(v / 100).alias(f\"APC-quantile-{v}\")\n",
    "    for v in range(10, 100, 10)\n",
    "]\n",
    "\n",
    "start = time.perf_counter()\n",
    "quantiles: polars.DataFrame = (\n",
    "    raw_df.lazy()\n",
    "        .select(\n",
    "            polars.col(\"AREA_PIXELS_COUNT\").min().alias(f\"APC-quantile-min\"),\n",
    "            polars.col(\"AREA_PIXELS_COUNT\").quantile(1 / 100).alias(f\"APC-quantile-01\"),\n",
    "            *selectors,\n",
    "            polars.col(\"AREA_PIXELS_COUNT\").quantile(99 / 100).alias(f\"APC-quantile-99\"),\n",
    "            polars.col(\"AREA_PIXELS_COUNT\").max().alias(f\"APC-quantile-max\"),\n",
    "        )\n",
    "        .collect()\n",
    ")\n",
    "time_taken = time.perf_counter() - start\n",
    "print(f\"{time_taken = :.6f} seconds\")"
   ],
   "metadata": {
    "collapsed": false,
    "pycharm": {
     "name": "#%%\n"
    }
   }
  },
  {
   "cell_type": "code",
   "execution_count": 6,
   "outputs": [
    {
     "data": {
      "text/plain": "shape: (1, 13)\n┌────────────┬────────────┬────────────┬────────────┬─────┬────────────┬────────────┬────────────┬────────────┐\n│ APC-quanti ┆ APC-quanti ┆ APC-quanti ┆ APC-quanti ┆ ... ┆ APC-quanti ┆ APC-quanti ┆ APC-quanti ┆ APC-quanti │\n│ le-min     ┆ le-01      ┆ le-10      ┆ le-20      ┆     ┆ le-80      ┆ le-90      ┆ le-99      ┆ le-max     │\n│ ---        ┆ ---        ┆ ---        ┆ ---        ┆     ┆ ---        ┆ ---        ┆ ---        ┆ ---        │\n│ f64        ┆ f64        ┆ f64        ┆ f64        ┆     ┆ f64        ┆ f64        ┆ f64        ┆ f64        │\n╞════════════╪════════════╪════════════╪════════════╪═════╪════════════╪════════════╪════════════╪════════════╡\n│ 1.0        ┆ 11.0       ┆ 26.0       ┆ 32.0       ┆ ... ┆ 77.0       ┆ 101.0      ┆ 232.0      ┆ 1.1664e6   │\n└────────────┴────────────┴────────────┴────────────┴─────┴────────────┴────────────┴────────────┴────────────┘",
      "text/html": "<div><style>\n.dataframe > thead > tr > th,\n.dataframe > tbody > tr > td {\n  text-align: right;\n}\n</style>\n<small>shape: (1, 13)</small><table border=\"1\" class=\"dataframe\"><thead><tr><th>APC-quantile-min</th><th>APC-quantile-01</th><th>APC-quantile-10</th><th>APC-quantile-20</th><th>APC-quantile-30</th><th>APC-quantile-40</th><th>APC-quantile-50</th><th>APC-quantile-60</th><th>APC-quantile-70</th><th>APC-quantile-80</th><th>APC-quantile-90</th><th>APC-quantile-99</th><th>APC-quantile-max</th></tr><tr><td>f64</td><td>f64</td><td>f64</td><td>f64</td><td>f64</td><td>f64</td><td>f64</td><td>f64</td><td>f64</td><td>f64</td><td>f64</td><td>f64</td><td>f64</td></tr></thead><tbody><tr><td>1.0</td><td>11.0</td><td>26.0</td><td>32.0</td><td>37.0</td><td>42.0</td><td>48.0</td><td>55.0</td><td>64.0</td><td>77.0</td><td>101.0</td><td>232.0</td><td>1.1664e6</td></tr></tbody></table></div>"
     },
     "execution_count": 6,
     "metadata": {},
     "output_type": "execute_result"
    }
   ],
   "source": [
    "quantiles.head()"
   ],
   "metadata": {
    "collapsed": false,
    "pycharm": {
     "name": "#%%\n"
    }
   }
  },
  {
   "cell_type": "code",
   "execution_count": 11,
   "outputs": [
    {
     "data": {
      "text/plain": "shape: (5, 1)\n┌───────────────────┐\n│ AREA_PIXELS_COUNT │\n│ ---               │\n│ u32               │\n╞═══════════════════╡\n│ 54                │\n│ 22                │\n│ 45                │\n│ 9                 │\n│ 22                │\n└───────────────────┘",
      "text/html": "<div><style>\n.dataframe > thead > tr > th,\n.dataframe > tbody > tr > td {\n  text-align: right;\n}\n</style>\n<small>shape: (5, 1)</small><table border=\"1\" class=\"dataframe\"><thead><tr><th>AREA_PIXELS_COUNT</th></tr><tr><td>u32</td></tr></thead><tbody><tr><td>54</td></tr><tr><td>22</td></tr><tr><td>45</td></tr><tr><td>9</td></tr><tr><td>22</td></tr></tbody></table></div>"
     },
     "execution_count": 11,
     "metadata": {},
     "output_type": "execute_result"
    }
   ],
   "source": [
    "apc_df = raw_df.lazy().select(polars.col(\"AREA_PIXELS_COUNT\").cast(polars.UInt32)).collect()\n",
    "apc_df.head()"
   ],
   "metadata": {
    "collapsed": false,
    "pycharm": {
     "name": "#%%\n"
    }
   }
  },
  {
   "cell_type": "code",
   "execution_count": 12,
   "outputs": [
    {
     "name": "stdout",
     "output_type": "stream",
     "text": [
      "time_taken = 14.153679 seconds\n"
     ]
    }
   ],
   "source": [
    "start = time.perf_counter()\n",
    "quantiles: polars.DataFrame = (\n",
    "    apc_df.lazy()\n",
    "        .select(\n",
    "            polars.col(\"AREA_PIXELS_COUNT\").min().alias(f\"APC-quantile-min\"),\n",
    "            polars.col(\"AREA_PIXELS_COUNT\").quantile(1 / 100).alias(f\"APC-quantile-01\"),\n",
    "            *selectors,\n",
    "            polars.col(\"AREA_PIXELS_COUNT\").quantile(99 / 100).alias(f\"APC-quantile-99\"),\n",
    "            polars.col(\"AREA_PIXELS_COUNT\").max().alias(f\"APC-quantile-max\"),\n",
    "        )\n",
    "        .collect()\n",
    ")\n",
    "time_taken = time.perf_counter() - start\n",
    "print(f\"{time_taken = :.6f} seconds\")"
   ],
   "metadata": {
    "collapsed": false,
    "pycharm": {
     "name": "#%%\n"
    }
   }
  },
  {
   "cell_type": "code",
   "execution_count": 13,
   "outputs": [
    {
     "data": {
      "text/plain": "shape: (1, 13)\n┌────────────┬────────────┬────────────┬────────────┬─────┬────────────┬────────────┬────────────┬────────────┐\n│ APC-quanti ┆ APC-quanti ┆ APC-quanti ┆ APC-quanti ┆ ... ┆ APC-quanti ┆ APC-quanti ┆ APC-quanti ┆ APC-quanti │\n│ le-min     ┆ le-01      ┆ le-10      ┆ le-20      ┆     ┆ le-80      ┆ le-90      ┆ le-99      ┆ le-max     │\n│ ---        ┆ ---        ┆ ---        ┆ ---        ┆     ┆ ---        ┆ ---        ┆ ---        ┆ ---        │\n│ u32        ┆ f64        ┆ f64        ┆ f64        ┆     ┆ f64        ┆ f64        ┆ f64        ┆ u32        │\n╞════════════╪════════════╪════════════╪════════════╪═════╪════════════╪════════════╪════════════╪════════════╡\n│ 1          ┆ 11.0       ┆ 26.0       ┆ 32.0       ┆ ... ┆ 77.0       ┆ 101.0      ┆ 232.0      ┆ 1166400    │\n└────────────┴────────────┴────────────┴────────────┴─────┴────────────┴────────────┴────────────┴────────────┘",
      "text/html": "<div><style>\n.dataframe > thead > tr > th,\n.dataframe > tbody > tr > td {\n  text-align: right;\n}\n</style>\n<small>shape: (1, 13)</small><table border=\"1\" class=\"dataframe\"><thead><tr><th>APC-quantile-min</th><th>APC-quantile-01</th><th>APC-quantile-10</th><th>APC-quantile-20</th><th>APC-quantile-30</th><th>APC-quantile-40</th><th>APC-quantile-50</th><th>APC-quantile-60</th><th>APC-quantile-70</th><th>APC-quantile-80</th><th>APC-quantile-90</th><th>APC-quantile-99</th><th>APC-quantile-max</th></tr><tr><td>u32</td><td>f64</td><td>f64</td><td>f64</td><td>f64</td><td>f64</td><td>f64</td><td>f64</td><td>f64</td><td>f64</td><td>f64</td><td>f64</td><td>u32</td></tr></thead><tbody><tr><td>1</td><td>11.0</td><td>26.0</td><td>32.0</td><td>37.0</td><td>42.0</td><td>48.0</td><td>55.0</td><td>64.0</td><td>77.0</td><td>101.0</td><td>232.0</td><td>1166400</td></tr></tbody></table></div>"
     },
     "execution_count": 13,
     "metadata": {},
     "output_type": "execute_result"
    }
   ],
   "source": [
    "quantiles.head()"
   ],
   "metadata": {
    "collapsed": false,
    "pycharm": {
     "name": "#%%\n"
    }
   }
  },
  {
   "cell_type": "code",
   "execution_count": null,
   "outputs": [],
   "source": [],
   "metadata": {
    "collapsed": false,
    "pycharm": {
     "name": "#%%\n"
    }
   }
  }
 ],
 "metadata": {
  "kernelspec": {
   "name": "eastman",
   "language": "python",
   "display_name": "eastman"
  },
  "language_info": {
   "codemirror_mode": {
    "name": "ipython",
    "version": 2
   },
   "file_extension": ".py",
   "mimetype": "text/x-python",
   "name": "python",
   "nbconvert_exporter": "python",
   "pygments_lexer": "ipython2",
   "version": "2.7.6"
  }
 },
 "nbformat": 4,
 "nbformat_minor": 0
}