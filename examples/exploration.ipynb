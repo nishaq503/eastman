{
 "cells": [
  {
   "cell_type": "code",
   "execution_count": 16,
   "outputs": [],
   "source": [
    "import pathlib\n",
    "import os\n",
    "\n",
    "\n",
    "DATA_ROOT = pathlib.Path(os.curdir).resolve().parent.joinpath(\"data\")\n",
    "ARROW_PATH = DATA_ROOT.joinpath(\"input\", \"combined.arrow\")\n",
    "NEW_ARROW_PATH = DATA_ROOT.joinpath(\"input\", \"new-combined.arrow\")\n",
    "OUT_DIR = DATA_ROOT.joinpath(\"output\")\n",
    "assert ARROW_PATH.exists(), OUT_DIR.exists()"
   ],
   "metadata": {
    "collapsed": false
   }
  },
  {
   "cell_type": "code",
   "execution_count": 10,
   "outputs": [],
   "source": [
    "import polars\n",
    "import vaex"
   ],
   "metadata": {
    "collapsed": false
   }
  },
  {
   "cell_type": "code",
   "execution_count": 17,
   "outputs": [
    {
     "ename": "KeyboardInterrupt",
     "evalue": "",
     "output_type": "error",
     "traceback": [
      "\u001B[0;31m---------------------------------------------------------------------------\u001B[0m",
      "\u001B[0;31mKeyboardInterrupt\u001B[0m                         Traceback (most recent call last)",
      "Cell \u001B[0;32mIn[17], line 2\u001B[0m\n\u001B[1;32m      1\u001B[0m raw_df \u001B[38;5;241m=\u001B[39m vaex\u001B[38;5;241m.\u001B[39mopen(ARROW_PATH)\n\u001B[0;32m----> 2\u001B[0m \u001B[43mraw_df\u001B[49m\u001B[38;5;241;43m.\u001B[39;49m\u001B[43mexport_arrow\u001B[49m\u001B[43m(\u001B[49m\u001B[43mNEW_ARROW_PATH\u001B[49m\u001B[43m)\u001B[49m\n",
      "File \u001B[0;32m~/.cache/pypoetry/virtualenvs/eastman-jLsbnK5D-py3.9/lib/python3.9/site-packages/vaex/dataframe.py:6779\u001B[0m, in \u001B[0;36mDataFrameLocal.export_arrow\u001B[0;34m(self, to, progress, chunk_size, parallel, reduce_large, fs_options, fs, as_stream)\u001B[0m\n\u001B[1;32m   6777\u001B[0m \u001B[38;5;28;01mif\u001B[39;00m as_stream:\n\u001B[1;32m   6778\u001B[0m     \u001B[38;5;28;01mwith\u001B[39;00m pa\u001B[38;5;241m.\u001B[39mRecordBatchStreamWriter(sink, schema) \u001B[38;5;28;01mas\u001B[39;00m writer:\n\u001B[0;32m-> 6779\u001B[0m         \u001B[43mwrite\u001B[49m\u001B[43m(\u001B[49m\u001B[43mwriter\u001B[49m\u001B[43m)\u001B[49m\n\u001B[1;32m   6780\u001B[0m \u001B[38;5;28;01melse\u001B[39;00m:\n\u001B[1;32m   6781\u001B[0m     \u001B[38;5;28;01mwith\u001B[39;00m pa\u001B[38;5;241m.\u001B[39mRecordBatchFileWriter(sink, schema) \u001B[38;5;28;01mas\u001B[39;00m writer:\n",
      "File \u001B[0;32m~/.cache/pypoetry/virtualenvs/eastman-jLsbnK5D-py3.9/lib/python3.9/site-packages/vaex/dataframe.py:6767\u001B[0m, in \u001B[0;36mDataFrameLocal.export_arrow.<locals>.write\u001B[0;34m(writer)\u001B[0m\n\u001B[1;32m   6765\u001B[0m \u001B[38;5;28;01mwith\u001B[39;00m vaex\u001B[38;5;241m.\u001B[39mprogress\u001B[38;5;241m.\u001B[39mtree(progress, title\u001B[38;5;241m=\u001B[39m\u001B[38;5;124m\"\u001B[39m\u001B[38;5;124mexport(arrow)\u001B[39m\u001B[38;5;124m\"\u001B[39m) \u001B[38;5;28;01mas\u001B[39;00m progressbar:\n\u001B[1;32m   6766\u001B[0m     \u001B[38;5;28;01mfor\u001B[39;00m i1, i2, table \u001B[38;5;129;01min\u001B[39;00m \u001B[38;5;28mself\u001B[39m\u001B[38;5;241m.\u001B[39mto_arrow_table(chunk_size\u001B[38;5;241m=\u001B[39mchunk_size, parallel\u001B[38;5;241m=\u001B[39mparallel, reduce_large\u001B[38;5;241m=\u001B[39mreduce_large):\n\u001B[0;32m-> 6767\u001B[0m         \u001B[43mwriter\u001B[49m\u001B[38;5;241;43m.\u001B[39;49m\u001B[43mwrite_table\u001B[49m\u001B[43m(\u001B[49m\u001B[43mtable\u001B[49m\u001B[43m)\u001B[49m\n\u001B[1;32m   6768\u001B[0m         progressbar(i2\u001B[38;5;241m/\u001B[39mN)\n\u001B[1;32m   6769\u001B[0m     progressbar(\u001B[38;5;241m1.\u001B[39m)\n",
      "File \u001B[0;32m~/.cache/pypoetry/virtualenvs/eastman-jLsbnK5D-py3.9/lib/python3.9/site-packages/pyarrow/ipc.pxi:525\u001B[0m, in \u001B[0;36mpyarrow.lib._CRecordBatchWriter.write_table\u001B[0;34m()\u001B[0m\n",
      "\u001B[0;31mKeyboardInterrupt\u001B[0m: "
     ]
    }
   ],
   "source": [
    "raw_df = vaex.open(ARROW_PATH)\n",
    "raw_df.export_arrow(NEW_ARROW_PATH)"
   ],
   "metadata": {
    "collapsed": false
   }
  },
  {
   "cell_type": "code",
   "execution_count": null,
   "outputs": [],
   "source": [],
   "metadata": {
    "collapsed": false
   }
  }
 ],
 "metadata": {
  "kernelspec": {
   "name": "eastman",
   "language": "python",
   "display_name": "eastman"
  },
  "language_info": {
   "codemirror_mode": {
    "name": "ipython",
    "version": 2
   },
   "file_extension": ".py",
   "mimetype": "text/x-python",
   "name": "python",
   "nbconvert_exporter": "python",
   "pygments_lexer": "ipython2",
   "version": "2.7.6"
  }
 },
 "nbformat": 4,
 "nbformat_minor": 0
}
